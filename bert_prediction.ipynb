{
 "cells": [
  {
   "cell_type": "markdown",
   "metadata": {},
   "source": [
    "# Redefine the same model adding new methods"
   ]
  },
  {
   "cell_type": "code",
   "execution_count": null,
   "metadata": {},
   "outputs": [],
   "source": [
    "import pickle\n",
    "import torch\n",
    "import torch.nn as nn\n",
    "# device = torch.device(\"cuda\") if torch.cuda.is_available() else torch.device(\"cpu\")\n",
    "\n",
    "class Classifier(nn.Module):\n",
    "    def __init__(self,\n",
    "                 ngpu,\n",
    "                 input_size: int = 768,\n",
    "                 num_classes: int = 2,\n",
    "                 decoder: dict = None):\n",
    "        super(Classifier, self).__init__()\n",
    "        self.ngpu = ngpu\n",
    "        self.main = nn.Sequential(nn.Conv1d(input_size, 256, kernel_size=3, stride=1, padding=1),\n",
    "                                  nn.ReLU(),\n",
    "                                  nn.MaxPool1d(kernel_size=2, stride=2),\n",
    "                                  nn.Conv1d(256, 128, kernel_size=3, stride=1, padding=1),\n",
    "                                  nn.ReLU(),\n",
    "                                  nn.MaxPool1d(kernel_size=2, stride=2),\n",
    "                                  nn.Conv1d(128, 64, kernel_size=3, stride=1, padding=1),\n",
    "                                  nn.ReLU(),\n",
    "                                  nn.MaxPool1d(kernel_size=2, stride=2),\n",
    "                                  nn.Conv1d(64, 32, kernel_size=3, stride=1, padding=1),\n",
    "                                  nn.ReLU(),\n",
    "                                  nn.Flatten(),\n",
    "                                  nn.Linear(384 , 128),\n",
    "                                  nn.ReLU(),\n",
    "                                  nn.Linear(128, num_classes))\n",
    "        self.decoder = decoder\n",
    "    def forward(self, inp):\n",
    "        x = self.main(inp)\n",
    "        return x\n",
    "\n",
    "    def predict(self, inp):\n",
    "        with torch.no_grad():\n",
    "            x = self.forward(inp)\n",
    "            return x\n",
    "    \n",
    "    def predict_proba(self, inp):\n",
    "        with torch.no_grad():\n",
    "            x = self.forward(inp)\n",
    "            return torch.softmax(x, dim=1)\n",
    "\n",
    "    def predict_classes(self, inp):\n",
    "        with torch.no_grad():\n",
    "            x = self.forward(inp)\n",
    "            return self.decoder[int(torch.argmax(x, dim=1))]\n"
   ]
  },
  {
   "cell_type": "markdown",
   "metadata": {},
   "source": [
    "# Use the TextProcessor "
   ]
  },
  {
   "cell_type": "code",
   "execution_count": null,
   "metadata": {},
   "outputs": [],
   "source": [
    "from text_process import TextProcessor\n",
    "# Make sure that you use the same max_length that you used when you trained the model as seen in the snippet below\n",
    "text_processor = TextProcessor(max_length=100)"
   ]
  },
  {
   "cell_type": "markdown",
   "metadata": {},
   "source": [
    "<p align=center><img src=\"images/Example_1.png\"></p>"
   ]
  },
  {
   "cell_type": "markdown",
   "metadata": {},
   "source": [
    "# Initialize the model"
   ]
  },
  {
   "cell_type": "code",
   "execution_count": null,
   "metadata": {},
   "outputs": [],
   "source": [
    "with open('text_decoder.pkl', 'rb') as image_decoder:\n",
    "    image_decoder = pickle.load(image_decoder)\n",
    "\n",
    "# Use the decoder to translate the output of the model\n",
    "model = Classifier(ngpu=1, num_classes=13, decoder=image_decoder)\n",
    "model.load_state_dict(torch.load('model_bert.pt', map_location='cpu'))\n",
    "model.eval()\n",
    "model.to('cpu')"
   ]
  },
  {
   "cell_type": "markdown",
   "metadata": {},
   "source": [
    "# Create an example"
   ]
  },
  {
   "cell_type": "code",
   "execution_count": null,
   "metadata": {},
   "outputs": [],
   "source": [
    "text_example = 'I want to sell this chair because I need the money'\n",
    "text_example = text_processor(text_example)"
   ]
  },
  {
   "cell_type": "markdown",
   "metadata": {},
   "source": [
    "# Predict the example"
   ]
  },
  {
   "cell_type": "code",
   "execution_count": null,
   "metadata": {},
   "outputs": [],
   "source": [
    "model.predict_classes(text_example)"
   ]
  }
 ],
 "metadata": {
  "kernelspec": {
   "display_name": "Python 3.10.4 ('facebook')",
   "language": "python",
   "name": "python3"
  },
  "language_info": {
   "codemirror_mode": {
    "name": "ipython",
    "version": 3
   },
   "file_extension": ".py",
   "mimetype": "text/x-python",
   "name": "python",
   "nbconvert_exporter": "python",
   "pygments_lexer": "ipython3",
   "version": "3.10.4"
  },
  "orig_nbformat": 4,
  "vscode": {
   "interpreter": {
    "hash": "6b567b586c7a2b230073a5bbe80c952350ec675626e8c300c6965d8b0efabd05"
   }
  }
 },
 "nbformat": 4,
 "nbformat_minor": 2
}
