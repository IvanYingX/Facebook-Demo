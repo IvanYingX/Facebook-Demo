{
 "cells": [
  {
   "cell_type": "markdown",
   "metadata": {},
   "source": [
    "# Redefine the same model adding new methods"
   ]
  },
  {
   "cell_type": "code",
   "execution_count": null,
   "metadata": {},
   "outputs": [],
   "source": [
    "import pickle\n",
    "import torch\n",
    "import torch.nn as nn\n",
    "# device = torch.device(\"cuda\") if torch.cuda.is_available() else torch.device(\"cpu\")\n",
    "\n",
    "class Classifier(nn.Module):\n",
    "    def __init__(self,\n",
    "                 ngpu,\n",
    "                 input_size: int = 768,\n",
    "                 num_classes: int = 2,\n",
    "                 decoder: dict = None):\n",
    "        super(Classifier, self).__init__()\n",
    "        self.ngpu = ngpu\n",
    "        self.main = nn.Sequential(nn.Conv1d(input_size, 256, kernel_size=3, stride=1, padding=1),\n",
    "                                  nn.ReLU(),\n",
    "                                  nn.MaxPool1d(kernel_size=2, stride=2),\n",
    "                                  nn.Conv1d(256, 128, kernel_size=3, stride=1, padding=1),\n",
    "                                  nn.ReLU(),\n",
    "                                  nn.MaxPool1d(kernel_size=2, stride=2),\n",
    "                                  nn.Conv1d(128, 64, kernel_size=3, stride=1, padding=1),\n",
    "                                  nn.ReLU(),\n",
    "                                  nn.MaxPool1d(kernel_size=2, stride=2),\n",
    "                                  nn.Conv1d(64, 32, kernel_size=3, stride=1, padding=1),\n",
    "                                  nn.ReLU(),\n",
    "                                  nn.Flatten(),\n",
    "                                  nn.Linear(384 , 128),\n",
    "                                  nn.ReLU(),\n",
    "                                  nn.Linear(128, num_classes))\n",
    "        self.decoder = decoder\n",
    "    def forward(self, inp):\n",
    "        x = self.main(inp)\n",
    "        return x\n",
    "\n",
    "    def predict(self, inp):\n",
    "        with torch.no_grad():\n",
    "            x = self.forward(inp)\n",
    "            return x\n",
    "    \n",
    "    def predict_proba(self, inp):\n",
    "        with torch.no_grad():\n",
    "            x = self.forward(inp)\n",
    "            return torch.softmax(x, dim=1)\n",
    "\n",
    "    def predict_classes(self, inp):\n",
    "        with torch.no_grad():\n",
    "            x = self.forward(inp)\n",
    "            return self.decoder[int(torch.argmax(x, dim=1))]\n"
   ]
  },
  {
   "cell_type": "markdown",
   "metadata": {},
   "source": [
    "# Use the TextProcessor "
   ]
  },
  {
   "cell_type": "code",
   "execution_count": null,
   "metadata": {},
   "outputs": [],
   "source": [
    "from text_process import TextProcessor\n",
    "# Make sure that you use the same max_length that you used when you trained the model\n",
    "text_processor = TextProcessor(max_length=100)\n",
    "\n",
    "with open('text_decoder.pkl', 'rb') as image_decoder:\n",
    "    image_decoder = pickle.load(image_decoder)\n",
    "\n",
    "\n",
    "model = Classifier(ngpu=1, num_classes=13, decoder=image_decoder)\n",
    "model.load_state_dict(torch.load('model_bert.pt', map_location='cpu'))\n",
    "model.eval()\n",
    "model.to('cpu')"
   ]
  }
 ],
 "metadata": {
  "language_info": {
   "name": "python"
  },
  "orig_nbformat": 4
 },
 "nbformat": 4,
 "nbformat_minor": 2
}
